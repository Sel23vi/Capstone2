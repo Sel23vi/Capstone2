{
 "cells": [
  {
   "cell_type": "raw",
   "id": "fa0b55f6-f56d-4271-8bff-eeb084b7accd",
   "metadata": {},
   "source": [
    "import pandas as pd\n",
    "import json\n",
    "import os\n",
    "\n",
    "#This is to direct the path to get the data as states\n",
    "\n",
    "path = r'Desktop/Project/Phonepe db/data/aggregated/transaction/country/india/state'\n",
    "Agg_state_list=os.listdir(path)\n",
    "Agg_state_list\n",
    "#Agg_state_list--> to get the list of states in India\n"
   ]
  },
  {
   "cell_type": "raw",
   "id": "8bb96afd-acf3-4e30-a44e-6caff6731aa7",
   "metadata": {},
   "source": [
    "#<------------------------------------------------------------------------------------------------------------------------------------------------------------------------------------------------------------>#\n",
    "\n",
    "#This is to extract the data's to create a dataframe\n",
    "\n",
    "clm={'State':[], 'Year':[],'Quater':[],'Transacion_type':[], 'Transacion_count':[], 'Transacion_amount':[]}\n",
    "\n",
    "for i in Agg_state_list:\n",
    "    p_i=path+'/'+i\n",
    "    Agg_yr=os.listdir(p_i)\n",
    "    for j in Agg_yr:\n",
    "        p_j=p_i+'/'+ j\n",
    "        Agg_yr_list=os.listdir(p_j)\n",
    "        for k in Agg_yr_list:\n",
    "            p_k=p_j+'/'+k\n",
    "            Data=open(p_k,'r')\n",
    "            D=json.load(Data)\n",
    "            for z in D['data']['transactionData']:\n",
    "                Name=z['name']\n",
    "                count=z['paymentInstruments'][0]['count']\n",
    "                amount=z['paymentInstruments'][0]['amount']\n",
    "                clm['Transacion_type'].append(Name)\n",
    "                clm['Transacion_count'].append(count)\n",
    "                clm['Transacion_amount'].append(amount)\n",
    "                clm['State'].append(i)\n",
    "                clm['Year'].append(j)\n",
    "                clm['Quater'].append(int(k.strip('.json')))\n",
    "#Succesfully created a dataframe\n",
    "Agg_Trans=pd.DataFrame(clm)\n",
    "\n",
    "Agg_Trans"
   ]
  },
  {
   "cell_type": "raw",
   "id": "29e10090-0aaa-4b9a-a544-26ef2771af0a",
   "metadata": {},
   "source": [
    "my_dict = {'andaman-&-nicobar-islands':'Andaman & Nicobar Islands', 'andhra-pradesh':'Andhra Pradesh', 'arunachal-pradesh':'Arunachal Pradesh', \n",
    "           'assam':'Assam', 'bihar':'Bihar', 'chandigarh':'Chandigarh', 'chhattisgarh':'Chhattisgarh', 'dadra-&-nagar-haveli-&-daman-&-diu':'Dadra & Nagar Haveli & Daman & Diu',\n",
    "           'delhi':'Delhi', 'goa':'Goa', 'gujarat':'Gujarat', 'haryana':'Haryana', 'himachal-pradesh':'Himachal Pradesh', 'jammu-&-kashmir':'Jammu & Kashmir',\n",
    "           'jharkhand':'Jharkhand', 'karnataka':'Karnataka', 'kerala':'Kerala', 'ladakh':'Ladakh', 'lakshadweep':'Lakshadweep', 'madhya-pradesh':'Madhya Pradesh',\n",
    "           'maharashtra':'Maharashtra', 'manipur':'Manipur', 'meghalaya':'Meghalaya', 'mizoram':'Mizoram', 'nagaland':'Nagaland', 'odisha':'Odisha',\n",
    "           'puducherry':'Puducherry', 'punjab':'Punjab', 'rajasthan':'Rajasthan', 'sikkim':'Sikkim', 'tamil-nadu':'Tamil Nadu', 'telangana':'Telengana',\n",
    "           'tripura':'Tripura', 'uttar-pradesh':'Uttar Pradesh', 'uttarakhand':'Uttarakhand', 'west-bengal':'West Bengal'}\n",
    "Agg_Trans['State'] = Agg_Trans['State'].map(my_dict)"
   ]
  },
  {
   "cell_type": "raw",
   "id": "3f366406-6937-4309-bb1c-7d6f8f40e4f9",
   "metadata": {},
   "source": [
    "Agg_Trans.rename(columns={'Quater':'Quarter','Transacion_type':'Transaction_Type','Transacion_count':'Transaction_Count','Transacion_amount':'Transaction_Amount'},inplace=True)"
   ]
  },
  {
   "cell_type": "raw",
   "id": "4d61306e-8d59-4657-8716-cf65cef42161",
   "metadata": {},
   "source": [
    "Agg_Trans.head(30)"
   ]
  },
  {
   "cell_type": "raw",
   "id": "8606febe-5e4c-44fa-beb0-8f24976d3064",
   "metadata": {},
   "source": [
    "import mysql.connector\n",
    "mydb=mysql.connector.connect(\n",
    "    host=\"localhost\",\n",
    "    user=\"root\",\n",
    "    password='XXXXX',\n",
    ")\n",
    "pointer=mydb.cursor()\n",
    "pointer.execute('use capstone2;')\n",
    "# query=\"\"\"create table Agg_Trans(\n",
    "# State Varchar(255),\n",
    "# Year Int(10),\n",
    "# Quarter Int(2),\n",
    "# Transaction_Type Varchar(50),\n",
    "# Transaction_Count int(20),\n",
    "# Transaction_Amount decimal(20,2)\n",
    "# );\"\"\"\n",
    "# pointer.execute(query)\n",
    "insert_query = 'INSERT INTO Agg_Trans (State,Year,Quarter,Transaction_Type,Transaction_Count,Transaction_Amount) VALUES (%s,%s,%s,%s,%s,%s)'\n",
    "values = [(row[\"State\"], row[\"Year\"], row[\"Quarter\"],row[\"Transaction_Type\"],row[\"Transaction_Count\"],row[\"Transaction_Amount\"]) for _, row in Agg_Trans.iterrows()]\n",
    "pointer.executemany(insert_query, values)"
   ]
  },
  {
   "cell_type": "raw",
   "id": "9dcf8e26-5582-4686-a337-d29d178bab1b",
   "metadata": {},
   "source": [
    "mydb.commit()"
   ]
  },
  {
   "cell_type": "raw",
   "id": "447cf454-a83b-4f3d-86cc-9302b0d740c5",
   "metadata": {},
   "source": [
    "pointer.close()\n",
    "mydb.close()"
   ]
  },
  {
   "cell_type": "raw",
   "id": "3e863d19-e7b5-47a4-9696-e6335a0c09d5",
   "metadata": {},
   "source": [
    "Agg_Trans.to_excel('PhonePe_DB.xlsx', index = False)"
   ]
  },
  {
   "cell_type": "raw",
   "id": "1534c23d-ae22-4f87-aa25-beeb8ce3776d",
   "metadata": {},
   "source": []
  }
 ],
 "metadata": {
  "kernelspec": {
   "display_name": "Python 3 (ipykernel)",
   "language": "python",
   "name": "python3"
  },
  "language_info": {
   "codemirror_mode": {
    "name": "ipython",
    "version": 3
   },
   "file_extension": ".py",
   "mimetype": "text/x-python",
   "name": "python",
   "nbconvert_exporter": "python",
   "pygments_lexer": "ipython3",
   "version": "3.11.7"
  }
 },
 "nbformat": 4,
 "nbformat_minor": 5
}
