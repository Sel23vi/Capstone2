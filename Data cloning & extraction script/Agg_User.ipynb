{
 "cells": [
  {
   "cell_type": "raw",
   "id": "0fe70c95-3ea4-4cc6-9cfe-94ab41944de1",
   "metadata": {},
   "source": [
    "import pandas as pd\n",
    "import json\n",
    "import os\n",
    "\n",
    "#This is to direct the path to get the data as states\n",
    "\n",
    "path = r'Desktop/Project/Phonepe db/data/aggregated/user/country/india/state'\n",
    "Agg_state_list=os.listdir(path)\n",
    "Agg_state_list\n",
    "#Agg_state_list--> to get the list of states in India"
   ]
  },
  {
   "cell_type": "raw",
   "id": "1155b042-cdcc-44b9-a727-669be74a64a4",
   "metadata": {},
   "source": [
    "clm={'State':[], 'Year':[],'Quater':[],'UserByDevice_Brand':[], 'UserByDevice_Count':[], 'UserByDevice_Percentage':[]}\n",
    "\n",
    "for i in Agg_state_list:\n",
    "    p_i=path+'/'+i\n",
    "    Agg_yr=os.listdir(p_i)\n",
    "    for j in Agg_yr:\n",
    "        p_j=p_i+'/'+ j\n",
    "        Agg_yr_list=os.listdir(p_j)\n",
    "        for k in Agg_yr_list:\n",
    "            p_k = p_j+'/'+k\n",
    "            Data = open(p_k,'r')\n",
    "            D = json.load(Data)\n",
    "            if D['data']['usersByDevice']!=None:\n",
    "                for z in D['data']['usersByDevice']:\n",
    "                    Brand = z.get('brand',None)\n",
    "                    Count = z.get('count',None)\n",
    "                    Percentage =z.get('percentage',None)\n",
    "                    clm['UserByDevice_Brand'].append(Brand)\n",
    "                    clm['UserByDevice_Count'].append(Count)\n",
    "                    clm['UserByDevice_Percentage'].append(Percentage)\n",
    "                    clm['State'].append(i)\n",
    "                    clm['Year'].append(j)\n",
    "                    clm['Quater'].append(int(k.strip('.json')))\n",
    "            else:\n",
    "                continue\n",
    "#Succesfully created a dataframe\n",
    "Agg_User=pd.DataFrame(clm)\n",
    "Agg_User"
   ]
  },
  {
   "cell_type": "raw",
   "id": "28a89e30-b8cc-47ea-b078-a9e5d3909834",
   "metadata": {},
   "source": [
    "\n",
    "my_dict = {'andaman-&-nicobar-islands':'Andaman & Nicobar Islands', 'andhra-pradesh':'Andhra Pradesh', 'arunachal-pradesh':'Arunachal Pradesh', \n",
    "           'assam':'Assam', 'bihar':'Bihar', 'chandigarh':'Chandigarh', 'chhattisgarh':'Chhattisgarh', 'dadra-&-nagar-haveli-&-daman-&-diu':'Dadra & Nagar Haveli & Daman & Diu',\n",
    "           'delhi':'Delhi', 'goa':'Goa', 'gujarat':'Gujarat', 'haryana':'Haryana', 'himachal-pradesh':'Himachal Pradesh', 'jammu-&-kashmir':'Jammu & Kashmir',\n",
    "           'jharkhand':'Jharkhand', 'karnataka':'Karnataka', 'kerala':'Kerala', 'ladakh':'Ladakh', 'lakshadweep':'Lakshadweep', 'madhya-pradesh':'Madhya Pradesh',\n",
    "           'maharashtra':'Maharashtra', 'manipur':'Manipur', 'meghalaya':'Meghalaya', 'mizoram':'Mizoram', 'nagaland':'Nagaland', 'odisha':'Odisha',\n",
    "           'puducherry':'Puducherry', 'punjab':'Punjab', 'rajasthan':'Rajasthan', 'sikkim':'Sikkim', 'tamil-nadu':'Tamil Nadu', 'telangana':'Telengana',\n",
    "           'tripura':'Tripura', 'uttar-pradesh':'Uttar Pradesh', 'uttarakhand':'Uttarakhand', 'west-bengal':'West Bengal'}\n",
    "Agg_User['State'] = Agg_User['State'].map(my_dict)"
   ]
  },
  {
   "cell_type": "raw",
   "id": "939626e3-4a53-498a-bd63-b8ce453be4e6",
   "metadata": {},
   "source": [
    "Agg_User"
   ]
  },
  {
   "cell_type": "raw",
   "id": "e1691461-e870-4837-bb60-561ea734bccf",
   "metadata": {},
   "source": [
    "Agg_User.rename(columns={'Quater':'Quarter'},inplace=True)"
   ]
  },
  {
   "cell_type": "raw",
   "id": "cc768370-bd81-4f8f-8f6b-588afb6361cb",
   "metadata": {},
   "source": [
    "Agg_User"
   ]
  },
  {
   "cell_type": "raw",
   "id": "3d847244-3807-4a3e-9067-84e37e092fe5",
   "metadata": {},
   "source": [
    "import mysql.connector\n",
    "mydb=mysql.connector.connect(\n",
    "    host=\"localhost\",\n",
    "    user=\"root\",\n",
    "    password='xxxxxx',\n",
    ")\n",
    "pointer=mydb.cursor()\n",
    "pointer.execute('use capstone2;')\n",
    "query=\"\"\"create table Agg_Userf(\n",
    "State Varchar(255),\n",
    "Year Int(10),\n",
    "Quarter Int(2),\n",
    "UserByDevice_Brand Varchar(50),\n",
    "UserByDevice_Count int(50),\n",
    "UserByDevice_Percentage decimal(10,10)\n",
    ");\"\"\"\n",
    "pointer.execute(query)\n",
    "insert_query = 'INSERT INTO Agg_Userf (State,Year,Quarter,UserByDevice_Brand,UserByDevice_Count,UserByDevice_Percentage) VALUES (%s,%s,%s,%s,%s,%s)'\n",
    "values = [(row[\"State\"], row[\"Year\"], row[\"Quarter\"],row[\"UserByDevice_Brand\"],row[\"UserByDevice_Count\"],row[\"UserByDevice_Percentage\"]) for _, row in Agg_User.iterrows()]\n",
    "pointer.executemany(insert_query, values)"
   ]
  },
  {
   "cell_type": "raw",
   "id": "ff726753-af76-4302-a266-03dab7c503e5",
   "metadata": {},
   "source": [
    "mydb.commit()"
   ]
  },
  {
   "cell_type": "raw",
   "id": "9a375ef1-2416-4d20-a2f2-6c719dc88ce9",
   "metadata": {},
   "source": [
    "pointer.close()\n",
    "mydb.close()"
   ]
  },
  {
   "cell_type": "raw",
   "id": "cb482723-55b7-45bd-bdf2-459c3f39e990",
   "metadata": {},
   "source": [
    "Agg_User.isnull().sum()"
   ]
  },
  {
   "cell_type": "raw",
   "id": "332ff06e-c9a7-4f01-8af6-6cb26c4e9795",
   "metadata": {},
   "source": [
    "with pd.ExcelWriter('PhonePe_DB.xlsx', engine='openpyxl', mode='a') as writer:\n",
    "    # Write df to Sheet2, as sheet1 one already has data\n",
    "    Agg_User.to_excel(writer, sheet_name='Sheet2', index=False)"
   ]
  }
 ],
 "metadata": {
  "kernelspec": {
   "display_name": "Python 3 (ipykernel)",
   "language": "python",
   "name": "python3"
  },
  "language_info": {
   "codemirror_mode": {
    "name": "ipython",
    "version": 3
   },
   "file_extension": ".py",
   "mimetype": "text/x-python",
   "name": "python",
   "nbconvert_exporter": "python",
   "pygments_lexer": "ipython3",
   "version": "3.11.7"
  }
 },
 "nbformat": 4,
 "nbformat_minor": 5
}
