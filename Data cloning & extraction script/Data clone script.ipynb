{
 "cells": [
  {
   "cell_type": "raw",
   "id": "f0fd5569-09f6-40cf-9f80-b3331d2ea9d3",
   "metadata": {},
   "source": [
    "import git\n",
    "repository_url = \"https://github.com/PhonePe/pulse\"\n",
    "destination_directory = \"D:/PhonePe/data\"\n",
    "git.Repo.clone_from(repository_url,destination_directory)"
   ]
  }
 ],
 "metadata": {
  "kernelspec": {
   "display_name": "Python 3 (ipykernel)",
   "language": "python",
   "name": "python3"
  },
  "language_info": {
   "codemirror_mode": {
    "name": "ipython",
    "version": 3
   },
   "file_extension": ".py",
   "mimetype": "text/x-python",
   "name": "python",
   "nbconvert_exporter": "python",
   "pygments_lexer": "ipython3",
   "version": "3.11.7"
  }
 },
 "nbformat": 4,
 "nbformat_minor": 5
}
