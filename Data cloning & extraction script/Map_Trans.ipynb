{
 "cells": [
  {
   "cell_type": "raw",
   "id": "91433a03-bd02-4892-8f18-6d5da61b8641",
   "metadata": {},
   "source": [
    "import pandas as pd\n",
    "import json\n",
    "import os\n",
    "\n",
    "#This is to direct the path to get the data as states\n",
    "\n",
    "path = r'Desktop/Project/Phonepe db/data/map/transaction/hover/country/india/state'\n",
    "Map_state_list=os.listdir(path)\n",
    "Map_state_list\n",
    "#Map_state_list--> to get the list of states in India"
   ]
  },
  {
   "cell_type": "raw",
   "id": "25864cd9-5e88-4fe8-8445-04dfa4bb997a",
   "metadata": {},
   "source": [
    "# Map_Trans\n",
    "clm={'State':[], 'Year':[],'Quater':[],'District_Name':[], 'DistrictWise_T.count':[], 'DistrictWise_T.amount':[]}\n",
    "\n",
    "for i in Map_state_list:\n",
    "    p_i=path+'/'+i\n",
    "    Map_yr=os.listdir(p_i)\n",
    "    for j in Map_yr:\n",
    "        p_j=p_i+'/'+ j\n",
    "        Map_yr_list=os.listdir(p_j)\n",
    "        for k in Map_yr_list:\n",
    "            p_k=p_j+'/'+k\n",
    "            Data=open(p_k,'r')\n",
    "            D=json.load(Data)\n",
    "            for z in D['data']['hoverDataList']:\n",
    "                Dist_Name=z['name']\n",
    "                Dist_count=z['metric'][0]['count']\n",
    "                Dist_amount=z['metric'][0]['amount']\n",
    "                clm['State'].append(i)\n",
    "                clm['Year'].append(j)\n",
    "                clm['Quater'].append(int(k.strip('.json')))\n",
    "                clm['District_Name'].append(Dist_Name)\n",
    "                clm['DistrictWise_T.count'].append(Dist_count)\n",
    "                clm['DistrictWise_T.amount'].append(Dist_amount)\n",
    "Map_Trans = pd.DataFrame(clm)\n",
    "\n",
    "Map_Trans"
   ]
  },
  {
   "cell_type": "raw",
   "id": "ee8e1fcb-7989-47f8-8f58-04f17ad91c57",
   "metadata": {},
   "source": [
    "my_dict = {'andaman-&-nicobar-islands':'Andaman & Nicobar Islands', 'andhra-pradesh':'Andhra Pradesh', 'arunachal-pradesh':'Arunachal Pradesh', \n",
    "           'assam':'Assam', 'bihar':'Bihar', 'chandigarh':'Chandigarh', 'chhattisgarh':'Chhattisgarh', 'dadra-&-nagar-haveli-&-daman-&-diu':'Dadra & Nagar Haveli & Daman & Diu',\n",
    "           'delhi':'Delhi', 'goa':'Goa', 'gujarat':'Gujarat', 'haryana':'Haryana', 'himachal-pradesh':'Himachal Pradesh', 'jammu-&-kashmir':'Jammu & Kashmir',\n",
    "           'jharkhand':'Jharkhand', 'karnataka':'Karnataka', 'kerala':'Kerala', 'ladakh':'Ladakh', 'lakshadweep':'Lakshadweep', 'madhya-pradesh':'Madhya Pradesh',\n",
    "           'maharashtra':'Maharashtra', 'manipur':'Manipur', 'meghalaya':'Meghalaya', 'mizoram':'Mizoram', 'nagaland':'Nagaland', 'odisha':'Odisha',\n",
    "           'puducherry':'Puducherry', 'punjab':'Punjab', 'rajasthan':'Rajasthan', 'sikkim':'Sikkim', 'tamil-nadu':'Tamil Nadu', 'telangana':'Telengana',\n",
    "           'tripura':'Tripura', 'uttar-pradesh':'Uttar Pradesh', 'uttarakhand':'Uttarakhand', 'west-bengal':'West Bengal'}\n",
    "Map_Trans['State'] = Map_Trans['State'].map(my_dict)"
   ]
  },
  {
   "cell_type": "raw",
   "id": "d546e8b9-cab4-4517-92d2-ce81a70dc0df",
   "metadata": {},
   "source": [
    "import mysql.connector\n",
    "mydb=mysql.connector.connect(\n",
    "    host=\"localhost\",\n",
    "    user=\"root\",\n",
    "    password='xxxxxx',\n",
    ")\n",
    "pointer=mydb.cursor()\n",
    "pointer.execute('use capstone2;')\n",
    "query=\"\"\"create table Map_Trans(\n",
    "State Varchar(255),\n",
    "Year Int(10),\n",
    "Quarter Int(2),\n",
    "District_Name Varchar(50),\n",
    "Districtwise_TransactionCount int(20),\n",
    "Districtwise_TransactionAmount decimal(20,2)\n",
    ");\"\"\"\n",
    "pointer.execute(query)\n",
    "insert_query = 'INSERT INTO Map_Trans (State,Year,Quarter,District_Name,Districtwise_TransactionCount,Districtwise_TransactionAmount) VALUES (%s,%s,%s,%s,%s,%s)'\n",
    "values = [(row[\"State\"], row[\"Year\"], row[\"Quater\"],row[\"District_Name\"],row[\"DistrictWise_T.count\"],row[\"DistrictWise_T.amount\"]) for _, row in Map_Trans.iterrows()]\n",
    "pointer.executemany(insert_query, values)"
   ]
  },
  {
   "cell_type": "raw",
   "id": "f9bd1f95-ca61-4b3e-9cc9-3dd3ea09db6b",
   "metadata": {},
   "source": [
    "mydb.commit()"
   ]
  },
  {
   "cell_type": "raw",
   "id": "7887ced7-7f67-4586-a006-08ec941d20e1",
   "metadata": {},
   "source": [
    "pointer.close()\n",
    "mydb.close()"
   ]
  },
  {
   "cell_type": "raw",
   "id": "3c8421dc-c17b-4e5e-ad71-5f62c043fb9e",
   "metadata": {},
   "source": [
    "with pd.ExcelWriter('PhonePe_DB.xlsx', engine='openpyxl', mode='a') as writer:\n",
    "    # Write df to new sheet\n",
    "    Map_Trans.to_excel(writer, sheet_name='MapTrans', index=False)"
   ]
  }
 ],
 "metadata": {
  "kernelspec": {
   "display_name": "Python 3 (ipykernel)",
   "language": "python",
   "name": "python3"
  },
  "language_info": {
   "codemirror_mode": {
    "name": "ipython",
    "version": 3
   },
   "file_extension": ".py",
   "mimetype": "text/x-python",
   "name": "python",
   "nbconvert_exporter": "python",
   "pygments_lexer": "ipython3",
   "version": "3.11.7"
  }
 },
 "nbformat": 4,
 "nbformat_minor": 5
}
