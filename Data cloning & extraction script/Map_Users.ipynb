{
 "cells": [
  {
   "cell_type": "raw",
   "id": "b4b0c6c9-f26c-41d2-b628-2a7465e9ab48",
   "metadata": {},
   "source": [
    "import pandas as pd\n",
    "import json\n",
    "import os\n",
    "\n",
    "#This is to direct the path to get the data as states\n",
    "\n",
    "path = r'Desktop/Project/Phonepe db/data/map/user/hover/country/india/state'\n",
    "Map_state_list=os.listdir(path)\n",
    "Map_state_list\n",
    "#Map_state_list--> to get the list of states in India"
   ]
  },
  {
   "cell_type": "raw",
   "id": "fab9abda-f131-4966-b1fb-cd86645e7fb6",
   "metadata": {},
   "source": [
    "for i in Map_state_list:\n",
    "    p_i=path+'/'+i\n",
    "    Map_yr=os.listdir(p_i)\n",
    "    for j in Map_yr:\n",
    "        p_j=p_i+'/'+ j\n",
    "        Map_yr_list=os.listdir(p_j)\n",
    "        for k in Map_yr_list:\n",
    "            p_k=p_j+'/'+k\n",
    "            Data=open(p_k,'r')\n",
    "            D=json.load(Data)\n",
    "            for key,value in D['data']['hoverData'].items():\n",
    "                District_Name = key\n",
    "                for key,value in D['data']['hoverData'][District_Name].items():\n",
    "                    if key == 'registeredUsers':\n",
    "                        RegUser_count = value\n",
    "                    elif key == 'appOpens':\n",
    "                        AppOpens = value\n",
    "                print(District_Name,RegUser_count,AppOpens)\n",
    "                    "
   ]
  },
  {
   "cell_type": "raw",
   "id": "c5113da9-632b-4aad-8da5-75e0f8a95acb",
   "metadata": {},
   "source": [
    "# Map_Users\n",
    "clm={'State':[], 'Year':[],'Quater':[],'District_Name':[], 'Registered_Users_Count':[], 'AppOpens':[]}\n",
    "\n",
    "for i in Map_state_list:\n",
    "    p_i=path+'/'+i\n",
    "    Map_yr=os.listdir(p_i)\n",
    "    for j in Map_yr:\n",
    "        p_j=p_i+'/'+ j\n",
    "        Map_yr_list=os.listdir(p_j)\n",
    "        for k in Map_yr_list:\n",
    "            p_k=p_j+'/'+k\n",
    "            Data=open(p_k,'r')\n",
    "            D=json.load(Data)\n",
    "            for key,value in D['data']['hoverData'].items():\n",
    "                Dist_Name = key\n",
    "                for key,value in D['data']['hoverData'][Dist_Name].items():\n",
    "                    if key == 'registeredUsers':\n",
    "                        RegUser_count = value\n",
    "                    elif key == 'appOpens':\n",
    "                        AppOpens = value\n",
    "                clm['State'].append(i)\n",
    "                clm['Year'].append(j)\n",
    "                clm['Quater'].append(int(k.strip('.json')))\n",
    "                clm['District_Name'].append(Dist_Name)\n",
    "                clm['Registered_Users_Count'].append(RegUser_count)\n",
    "                clm['AppOpens'].append(AppOpens)\n",
    "Map_Users = pd.DataFrame(clm)\n",
    "\n",
    "Map_Users"
   ]
  },
  {
   "cell_type": "raw",
   "id": "571a8e18-057f-49ac-881d-65a246ab3594",
   "metadata": {},
   "source": [
    "my_dict = {'andaman-&-nicobar-islands':'Andaman & Nicobar Islands', 'andhra-pradesh':'Andhra Pradesh', 'arunachal-pradesh':'Arunachal Pradesh', \n",
    "           'assam':'Assam', 'bihar':'Bihar', 'chandigarh':'Chandigarh', 'chhattisgarh':'Chhattisgarh', 'dadra-&-nagar-haveli-&-daman-&-diu':'Dadra & Nagar Haveli & Daman & Diu',\n",
    "           'delhi':'Delhi', 'goa':'Goa', 'gujarat':'Gujarat', 'haryana':'Haryana', 'himachal-pradesh':'Himachal Pradesh', 'jammu-&-kashmir':'Jammu & Kashmir',\n",
    "           'jharkhand':'Jharkhand', 'karnataka':'Karnataka', 'kerala':'Kerala', 'ladakh':'Ladakh', 'lakshadweep':'Lakshadweep', 'madhya-pradesh':'Madhya Pradesh',\n",
    "           'maharashtra':'Maharashtra', 'manipur':'Manipur', 'meghalaya':'Meghalaya', 'mizoram':'Mizoram', 'nagaland':'Nagaland', 'odisha':'Odisha',\n",
    "           'puducherry':'Puducherry', 'punjab':'Punjab', 'rajasthan':'Rajasthan', 'sikkim':'Sikkim', 'tamil-nadu':'Tamil Nadu', 'telangana':'Telengana',\n",
    "           'tripura':'Tripura', 'uttar-pradesh':'Uttar Pradesh', 'uttarakhand':'Uttarakhand', 'west-bengal':'West Bengal'}\n",
    "Map_Users['State'] = Map_Users['State'].map(my_dict)"
   ]
  },
  {
   "cell_type": "raw",
   "id": "c23ca27f-9dab-428e-b41d-456ef12cef4f",
   "metadata": {},
   "source": [
    "import mysql.connector\n",
    "mydb=mysql.connector.connect(\n",
    "    host=\"localhost\",\n",
    "    user=\"root\",\n",
    "    password='xxxxxx',\n",
    ")\n",
    "pointer=mydb.cursor()\n",
    "pointer.execute('use capstone2;')\n",
    "# query=\"\"\"create table Map_Users(\n",
    "# State Varchar(255),\n",
    "# Year Int(10),\n",
    "# Quarter Int(2),\n",
    "# District_Name Varchar(50),\n",
    "# Registered_Users_Count int(20),\n",
    "# AppOpens Int(20)\n",
    "# );\"\"\"\n",
    "# pointer.execute(query)\n",
    "insert_query = 'INSERT INTO Map_Users (State,Year,Quarter,District_Name,Registered_Users_Count,AppOpens) VALUES (%s,%s,%s,%s,%s,%s)'\n",
    "values = [(row[\"State\"], row[\"Year\"], row[\"Quater\"],row[\"District_Name\"],row[\"Registered_Users_Count\"],row[\"AppOpens\"]) for _, row in Map_Users.iterrows()]\n",
    "pointer.executemany(insert_query, values)"
   ]
  },
  {
   "cell_type": "raw",
   "id": "0f989230-cd47-4bba-b575-67d6acf4bf30",
   "metadata": {},
   "source": [
    "mydb.commit()"
   ]
  },
  {
   "cell_type": "raw",
   "id": "9291434b-ce8b-4dcf-869e-fccc0e04396f",
   "metadata": {},
   "source": [
    "pointer.close()\n",
    "mydb.close()"
   ]
  },
  {
   "cell_type": "raw",
   "id": "2b683c2a-b161-437b-9b0c-a3326b5bb886",
   "metadata": {},
   "source": [
    "with pd.ExcelWriter('PhonePe_DB.xlsx', engine='openpyxl', mode='a') as writer:\n",
    "    # Write df to new sheet\n",
    "    Map_Users.to_excel(writer, sheet_name='MapUsers', index=False)"
   ]
  }
 ],
 "metadata": {
  "kernelspec": {
   "display_name": "Python 3 (ipykernel)",
   "language": "python",
   "name": "python3"
  },
  "language_info": {
   "codemirror_mode": {
    "name": "ipython",
    "version": 3
   },
   "file_extension": ".py",
   "mimetype": "text/x-python",
   "name": "python",
   "nbconvert_exporter": "python",
   "pygments_lexer": "ipython3",
   "version": "3.11.7"
  }
 },
 "nbformat": 4,
 "nbformat_minor": 5
}
