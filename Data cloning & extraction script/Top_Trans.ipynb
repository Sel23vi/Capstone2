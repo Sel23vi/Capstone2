{
 "cells": [
  {
   "cell_type": "raw",
   "id": "1060aec2-af31-40cf-935d-6ef0365a391f",
   "metadata": {},
   "source": [
    "import pandas as pd\n",
    "import json\n",
    "import os\n",
    "\n",
    "#This is to direct the path to get the data as states\n",
    "\n",
    "path = r'Desktop/Project/Phonepe db/data/top/transaction/country/india/state'\n",
    "Top_state_list=os.listdir(path)\n",
    "Top_state_list\n",
    "#Top_state_list--> to get the list of states in India"
   ]
  },
  {
   "cell_type": "raw",
   "id": "19bd9cf2-4573-4f08-b74f-63ecc386b600",
   "metadata": {},
   "source": [
    "# Top_Trans_Districtwise\n",
    "clm={'State':[], 'Year':[],'Quater':[],'District_Name':[], 'DistrictWise_count':[], 'DistrictWise_amount':[]}\n",
    "\n",
    "for i in Top_state_list:\n",
    "    p_i=path+'/'+i\n",
    "    Top_yr=os.listdir(p_i)\n",
    "    for j in Top_yr:\n",
    "        p_j=p_i+'/'+ j\n",
    "        Top_yr_list=os.listdir(p_j)\n",
    "        for k in Top_yr_list:\n",
    "            p_k=p_j+'/'+k\n",
    "            Data=open(p_k,'r')\n",
    "            D=json.load(Data)\n",
    "            for z in D['data']['districts']:\n",
    "                Dist_Name=z['entityName']\n",
    "                Dist_count=z['metric']['count']\n",
    "                Dist_amount=z['metric']['amount']\n",
    "                clm['State'].append(i)\n",
    "                clm['Year'].append(j)\n",
    "                clm['Quater'].append(int(k.strip('.json')))\n",
    "                clm['District_Name'].append(Dist_Name)\n",
    "                clm['DistrictWise_count'].append(Dist_count)\n",
    "                clm['DistrictWise_amount'].append(Dist_amount)\n",
    "Top_Trans_Dist=pd.DataFrame(clm)\n",
    "\n",
    "Top_Trans_Dist"
   ]
  },
  {
   "cell_type": "raw",
   "id": "a9b1311a-fc84-4930-b30e-0371c3b01658",
   "metadata": {},
   "source": [
    "Top_Trans_Dist['District_Name'].unique()"
   ]
  },
  {
   "cell_type": "raw",
   "id": "58a7328e-dd53-47c8-9b13-6568c2695d89",
   "metadata": {},
   "source": [
    "Dist_name_list = ['south andaman', 'nicobars', 'north and middle andaman',\n",
    "       'visakhapatnam', 'east godavari', 'krishna', 'chittoor', 'guntur',\n",
    "       'kurnool', 'anantapur', 'west godavari', 'prakasam',\n",
    "       'spsr nellore', 'ysr', 'papum pare', 'west kameng', 'lohit',\n",
    "       'east siang', 'changlang', 'tawang', 'longding', 'west siang',\n",
    "       'lower subansiri', 'namsai', 'lower siang', 'tirap',\n",
    "       'lower dibang valley', 'kamrup metropolitan', 'marigaon',\n",
    "       'barpeta', 'nagaon', 'cachar', 'sonitpur', 'kamrup', 'dibrugarh',\n",
    "       'tinsukia', 'jorhat', 'dhubri', 'golaghat', 'goalpara', 'darrang',\n",
    "       'bongaigaon', 'patna', 'muzaffarpur', 'purbi champaran', 'gaya',\n",
    "       'samastipur', 'darbhanga', 'pashchim champaran', 'nalanda',\n",
    "       'vaishali', 'rohtas', 'madhubani', 'bhagalpur', 'saran', 'siwan',\n",
    "       'purnia', 'sitamarhi', 'chandigarh', 'raipur', 'durg',\n",
    "       'janjgir champa', 'bilaspur', 'raigarh', 'korba', 'rajnandgaon',\n",
    "       'surguja', 'mahasamund', 'baloda bazar', 'dadra and nagar haveli',\n",
    "       'daman', 'diu', 'central delhi', 'new delhi', 'south east delhi',\n",
    "       'west', 'north west', 'north', 'east', 'south', 'south west',\n",
    "       'shahdara', 'north east', 'north goa', 'south goa', 'ahmadabad',\n",
    "       'surat', 'vadodara', 'banas kantha', 'gandhinagar', 'mahesana',\n",
    "       'rajkot', 'kachchh', 'bharuch', 'bhavnagar', 'valsad', 'navsari',\n",
    "       'anand', 'gurugram', 'faridabad', 'hisar', 'rewari', 'panipat',\n",
    "       'sonipat', 'karnal', 'sirsa', 'bhiwani', 'rohtak', 'ambala',\n",
    "       'palwal', 'jhajjar', 'mewat', 'mahendragarh', 'solan', 'kangra',\n",
    "       'shimla', 'mandi', 'chamba', 'una', 'sirmaur', 'hamirpur', 'kullu',\n",
    "       'poonch', 'baramulla', 'jammu', 'anantnag', 'budgam', 'srinagar',\n",
    "       'bandipore', 'pulwama', 'kulgam', 'ganderbal', 'udhampur',\n",
    "       'kathua', 'kupwara', 'rajouri', 'samba', 'ramban', 'reasi',\n",
    "       'ranchi', 'dhanbad', 'bokaro', 'east singhbhum', 'hazaribagh',\n",
    "       'giridih', 'ramgarh', 'palamu', 'saraikela kharsawan', 'deoghar',\n",
    "       'koderma', 'garhwa', 'bengaluru urban', 'mysuru', 'belagavi',\n",
    "       'ballari', 'dharwad', 'bengaluru rural', 'dakshina kannada',\n",
    "       'tumakuru', 'kalaburagi', 'bidar', 'kolar', 'ramanagara',\n",
    "       'davanagere', 'shivamogga', 'hassan', 'vijayapura', 'ernakulam',\n",
    "       'malappuram', 'kozhikode', 'thiruvananthapuram', 'thrissur',\n",
    "       'palakkad', 'kottayam', 'kannur', 'kollam', 'alappuzha',\n",
    "       'leh ladakh', 'kargil', 'lakshadweep', 'bhopal', 'indore',\n",
    "       'gwalior', 'jabalpur', 'sehore', 'ujjain', 'sagar', 'rewa',\n",
    "       'dewas', 'dhar', 'satna', 'narsinghpur', 'hoshangabad',\n",
    "       'chhindwara', 'shahdol', 'pune', 'mumbai', 'mumbai suburban',\n",
    "       'thane', 'nashik', 'aurangabad', 'nagpur', 'solapur', 'ahmednagar',\n",
    "       'kolhapur', 'raigad', 'palghar', 'washim', 'imphal west',\n",
    "       'imphal east', 'thoubal', 'bishnupur', 'kangpokpi',\n",
    "       'churachandpur', 'kakching', 'ukhrul', 'jiribam', 'tamenglong',\n",
    "       'tengnoupal', 'chandel', 'senapati', 'east khasi hills',\n",
    "       'west garo hills', 'ribhoi', 'east jaintia hills',\n",
    "       'west jaintia hills', 'west khasi hills', 'north garo hills',\n",
    "       'south west garo hills', 'east garo hills', 'south garo hills',\n",
    "       'aizawl', 'lunglei', 'kolasib', 'mamit', 'lawngtlai', 'serchhip',\n",
    "       'saiha', 'champhai', 'dimapur', 'kohima', 'mokokchung', 'tuensang',\n",
    "       'mon', 'zunheboto', 'wokha', 'phek', 'longleng', 'peren',\n",
    "       'kiphire', 'khordha', 'cuttack', 'baleshwar', 'ganjam', 'jajapur',\n",
    "       'bhadrak', 'puri', 'kendujhar', 'jagatsinghapur', 'mayurbhanj',\n",
    "       'dhenkanal', 'nayagarh', 'anugul', 'sundargarh', 'sambalpur',\n",
    "       'puducherry', 'karaikal', 'yanam', 'mahe', 'ludhiana', 'sas nagar',\n",
    "       'patiala', 'jalandhar', 'fazilka', 'amritsar', 'bathinda',\n",
    "       'sangrur', 'kapurthala', 'pathankot', 'hoshiarpur', 'gurdaspur',\n",
    "       'jaipur', 'alwar', 'sikar', 'kota', 'jodhpur', 'bhilwara',\n",
    "       'ganganagar', 'nagaur', 'ajmer', 'udaipur', 'dausa', 'jhunjhunu',\n",
    "       'bikaner', 'barmer', 'chennai', 'chengalpattu', 'coimbatore',\n",
    "       'thiruvallur', 'kancheepuram', 'tiruppur', 'salem', 'krishnagiri',\n",
    "       'tiruchirappalli', 'madurai', 'vellore', 'erode', 'dharmapuri',\n",
    "       'hyderabad', 'rangareddy', 'medchal malkajgiri', 'warangal urban',\n",
    "       'sangareddy', 'karimnagar', 'nalgonda', 'khammam', 'peddapalle',\n",
    "       'siddipet', 'bhadradri kothagudem', 'nirmal', 'nizamabad',\n",
    "       'west tripura', 'south tripura', 'sepahijala', 'gomati',\n",
    "       'north tripura', 'dhalai', 'khowai', 'unakoti',\n",
    "       'gautam buddha nagar', 'lucknow', 'ghaziabad', 'prayagraj',\n",
    "       'varanasi', 'kanpur nagar', 'gorakhpur', 'bareilly', 'agra',\n",
    "       'meerut', 'sitapur', 'kheri', 'aligarh', 'moradabad', 'bijnor',\n",
    "       'mathura', 'dehradun', 'udham singh nagar', 'haridwar', 'nainital',\n",
    "       'pauri garhwal', 'tehri garhwal', 'almora', 'pithoragarh',\n",
    "       'chamoli', 'uttarkashi', 'rudraprayag', 'birbhum', 'kolkata',\n",
    "       'north twenty four parganas', 'murshidabad', 'nadia',\n",
    "       'purba medinipur', 'maldah', 'south twenty four parganas',\n",
    "       'paschim medinipur', 'purba bardhaman', 'bankura',\n",
    "       'paschim bardhaman', 'purulia', 'hooghly', 'howrah']\n",
    "dist_in_Title ={}\n",
    "for i in Dist_name_list:\n",
    "    if i not in dist_in_Title:\n",
    "        dist_in_Title[i] = i.title()\n",
    "print(dist_in_Title)"
   ]
  },
  {
   "cell_type": "raw",
   "id": "b369bf30-8d5c-48c8-beab-0685d41a1194",
   "metadata": {},
   "source": [
    "Top_Trans_Dist['District_Name'] = Top_Trans_Dist['District_Name'].map(dist_in_Title)"
   ]
  },
  {
   "cell_type": "raw",
   "id": "39d5e6ab-c213-4e7f-93c5-122f96126e94",
   "metadata": {},
   "source": [
    "\n",
    "my_dict = {'andaman-&-nicobar-islands':'Andaman & Nicobar Islands', 'andhra-pradesh':'Andhra Pradesh', 'arunachal-pradesh':'Arunachal Pradesh', \n",
    "           'assam':'Assam', 'bihar':'Bihar', 'chandigarh':'Chandigarh', 'chhattisgarh':'Chhattisgarh', 'dadra-&-nagar-haveli-&-daman-&-diu':'Dadra & Nagar Haveli & Daman & Diu',\n",
    "           'delhi':'Delhi', 'goa':'Goa', 'gujarat':'Gujarat', 'haryana':'Haryana', 'himachal-pradesh':'Himachal Pradesh', 'jammu-&-kashmir':'Jammu & Kashmir',\n",
    "           'jharkhand':'Jharkhand', 'karnataka':'Karnataka', 'kerala':'Kerala', 'ladakh':'Ladakh', 'lakshadweep':'Lakshadweep', 'madhya-pradesh':'Madhya Pradesh',\n",
    "           'maharashtra':'Maharashtra', 'manipur':'Manipur', 'meghalaya':'Meghalaya', 'mizoram':'Mizoram', 'nagaland':'Nagaland', 'odisha':'Odisha',\n",
    "           'puducherry':'Puducherry', 'punjab':'Punjab', 'rajasthan':'Rajasthan', 'sikkim':'Sikkim', 'tamil-nadu':'Tamil Nadu', 'telangana':'Telengana',\n",
    "           'tripura':'Tripura', 'uttar-pradesh':'Uttar Pradesh', 'uttarakhand':'Uttarakhand', 'west-bengal':'West Bengal'}\n",
    "Top_Trans_Dist['State'] = Top_Trans_Dist['State'].map(my_dict)"
   ]
  },
  {
   "cell_type": "raw",
   "id": "0d3b19f3-54df-489a-b910-222f67c681f9",
   "metadata": {},
   "source": [
    "Top_Trans_Dist"
   ]
  },
  {
   "cell_type": "raw",
   "id": "29dec2df-f30e-4e9c-9b49-42408b904913",
   "metadata": {},
   "source": [
    "import mysql.connector\n",
    "mydb=mysql.connector.connect(\n",
    "    host=\"localhost\",\n",
    "    user=\"root\",\n",
    "    password='xxxxxx',\n",
    ")\n",
    "pointer=mydb.cursor()\n",
    "pointer.execute('use capstone2;')\n",
    "query=\"\"\"create table Top_Trans_Dist(\n",
    "State Varchar(255),\n",
    "Year Int(10),\n",
    "Quarter Int(2),\n",
    "District_Name Varchar(50),\n",
    "Districtwise_TransactionCount int(20),\n",
    "Districtwise_TransactionAmount decimal(20,2)\n",
    ");\"\"\"\n",
    "pointer.execute(query)\n",
    "insert_query = 'INSERT INTO Top_Trans_Dist (State,Year,Quarter,District_Name,Districtwise_TransactionCount,Districtwise_TransactionAmount) VALUES (%s,%s,%s,%s,%s,%s)'\n",
    "values = [(row[\"State\"], row[\"Year\"], row[\"Quater\"],row[\"District_Name\"],row[\"DistrictWise_count\"],row[\"DistrictWise_amount\"]) for _, row in Top_Trans_Dist.iterrows()]\n",
    "pointer.executemany(insert_query, values)"
   ]
  },
  {
   "cell_type": "raw",
   "id": "516a63f0-e577-47c7-bfc6-5c7c179a1cea",
   "metadata": {},
   "source": [
    "mydb.commit()"
   ]
  },
  {
   "cell_type": "raw",
   "id": "c8bda4b0-fbef-4146-964b-5db64a910434",
   "metadata": {},
   "source": [
    "with pd.ExcelWriter('PhonePe_DB.xlsx', engine='openpyxl', mode='a') as writer:\n",
    "    # Write df to new sheet\n",
    "    Top_Trans_Dist.to_excel(writer, sheet_name='Top_Trans_Dist', index=True)"
   ]
  },
  {
   "cell_type": "raw",
   "id": "7ba7156f-7137-4060-9400-068ea6f5656a",
   "metadata": {},
   "source": [
    "# Top_Trans_Pincodewise\n",
    "clm={'State':[], 'Year':[],'Quater':[], 'Pincodes':[], 'PincodeWise_count':[], 'PincodeWise_amount':[]}\n",
    "\n",
    "for i in Top_state_list:\n",
    "    p_i=path+'/'+i\n",
    "    Top_yr=os.listdir(p_i)\n",
    "    for j in Top_yr:\n",
    "        p_j=p_i+'/'+ j\n",
    "        Top_yr_list=os.listdir(p_j)\n",
    "        for k in Top_yr_list:\n",
    "            p_k=p_j+'/'+k\n",
    "            Data=open(p_k,'r')\n",
    "            D=json.load(Data)\n",
    "            for y in D['data']['pincodes']:\n",
    "                Pin = y['entityName']\n",
    "                Pin_count=z['metric']['count']\n",
    "                Pin_amount=z['metric']['amount']\n",
    "                clm['State'].append(i)\n",
    "                clm['Year'].append(j)\n",
    "                clm['Quater'].append(int(k.strip('.json')))\n",
    "                clm['Pincodes'].append(Pin)\n",
    "                clm['PincodeWise_count'].append(Pin_count)\n",
    "                clm['PincodeWise_amount'].append(Pin_amount)\n",
    "                \n",
    "#Succesfully created a dataframe\n",
    "Top_Trans_Pcodes=pd.DataFrame(clm)\n",
    "Top_Trans_Pcodes"
   ]
  },
  {
   "cell_type": "raw",
   "id": "b25cb8d9-8f30-4b31-8627-55b74e8db202",
   "metadata": {},
   "source": [
    "my_dict = {'andaman-&-nicobar-islands':'Andaman & Nicobar Islands', 'andhra-pradesh':'Andhra Pradesh', 'arunachal-pradesh':'Arunachal Pradesh', \n",
    "           'assam':'Assam', 'bihar':'Bihar', 'chandigarh':'Chandigarh', 'chhattisgarh':'Chhattisgarh', 'dadra-&-nagar-haveli-&-daman-&-diu':'Dadra & Nagar Haveli & Daman & Diu',\n",
    "           'delhi':'Delhi', 'goa':'Goa', 'gujarat':'Gujarat', 'haryana':'Haryana', 'himachal-pradesh':'Himachal Pradesh', 'jammu-&-kashmir':'Jammu & Kashmir',\n",
    "           'jharkhand':'Jharkhand', 'karnataka':'Karnataka', 'kerala':'Kerala', 'ladakh':'Ladakh', 'lakshadweep':'Lakshadweep', 'madhya-pradesh':'Madhya Pradesh',\n",
    "           'maharashtra':'Maharashtra', 'manipur':'Manipur', 'meghalaya':'Meghalaya', 'mizoram':'Mizoram', 'nagaland':'Nagaland', 'odisha':'Odisha',\n",
    "           'puducherry':'Puducherry', 'punjab':'Punjab', 'rajasthan':'Rajasthan', 'sikkim':'Sikkim', 'tamil-nadu':'Tamil Nadu', 'telangana':'Telengana',\n",
    "           'tripura':'Tripura', 'uttar-pradesh':'Uttar Pradesh', 'uttarakhand':'Uttarakhand', 'west-bengal':'West Bengal'}\n",
    "Top_Trans_Pcodes['State'] = Top_Trans_Pcodes['State'].map(my_dict)"
   ]
  },
  {
   "cell_type": "raw",
   "id": "a5228548-5e2e-44f4-ab71-8743bfae0959",
   "metadata": {},
   "source": [
    "import mysql.connector\n",
    "mydb=mysql.connector.connect(\n",
    "    host=\"localhost\",\n",
    "    user=\"root\",\n",
    "    password='xxxxxx',\n",
    ")\n",
    "pointer=mydb.cursor()\n",
    "pointer.execute('use capstone2;')\n",
    "query=\"\"\"create table Top_Trans_Pcodes(\n",
    "State Varchar(255),\n",
    "Year Int(10),\n",
    "Quarter Int(2),\n",
    "Pincodes Int(20),\n",
    "Pincodewise_TransactionCount int(20),\n",
    "Pincodewise_TransactionAmount decimal(20,2)\n",
    ");\"\"\"\n",
    "pointer.execute(query)\n",
    "insert_query = 'INSERT INTO Top_Trans_Pcodes (State,Year,Quarter,Pincodes,Pincodewise_TransactionCount,Pincodewise_TransactionAmount) VALUES (%s,%s,%s,%s,%s,%s)'\n",
    "values = [(row[\"State\"], row[\"Year\"], row[\"Quater\"],row[\"Pincodes\"],row[\"PincodeWise_count\"],row[\"PincodeWise_amount\"]) for _, row in Top_Trans_Pcodes.iterrows()]\n",
    "pointer.executemany(insert_query, values)"
   ]
  },
  {
   "cell_type": "raw",
   "id": "60d457e9-44fe-49f8-801f-143d4cd4de25",
   "metadata": {},
   "source": [
    "mydb.commit()"
   ]
  },
  {
   "cell_type": "raw",
   "id": "991fe72e-e820-4ec2-9cdd-a2dac6a08d43",
   "metadata": {},
   "source": [
    "pointer.close()\n",
    "mydb.close()"
   ]
  },
  {
   "cell_type": "raw",
   "id": "5f1a7dba-7cd4-4a88-b4a3-5425ef59080d",
   "metadata": {},
   "source": [
    "with pd.ExcelWriter('PhonePe_DB.xlsx', engine='openpyxl', mode='a') as writer:\n",
    "    # Write df to new sheet\n",
    "    Top_Trans_Pcodes.to_excel(writer, sheet_name='TopTransPC', index=True)"
   ]
  }
 ],
 "metadata": {
  "kernelspec": {
   "display_name": "Python 3 (ipykernel)",
   "language": "python",
   "name": "python3"
  },
  "language_info": {
   "codemirror_mode": {
    "name": "ipython",
    "version": 3
   },
   "file_extension": ".py",
   "mimetype": "text/x-python",
   "name": "python",
   "nbconvert_exporter": "python",
   "pygments_lexer": "ipython3",
   "version": "3.11.7"
  }
 },
 "nbformat": 4,
 "nbformat_minor": 5
}
