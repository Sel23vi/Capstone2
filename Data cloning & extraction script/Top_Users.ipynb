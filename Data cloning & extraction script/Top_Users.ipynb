{
 "cells": [
  {
   "cell_type": "raw",
   "id": "2ba264b9-5d53-432c-a045-b508426dc82e",
   "metadata": {},
   "source": [
    "import pandas as pd\n",
    "import json\n",
    "import os\n",
    "\n",
    "#This is to direct the path to get the data as states\n",
    "\n",
    "path = r'Desktop/Project/Phonepe db/data/top/user/country/india/state'\n",
    "Top_state_list=os.listdir(path)\n",
    "print(len(Top_state_list))\n",
    "Top_state_list"
   ]
  },
  {
   "cell_type": "raw",
   "id": "4ee6424d-070d-4e10-b1f8-4d101de5a7d4",
   "metadata": {},
   "source": [
    "# Top_User_Districtwise\n",
    "clm={'State':[], 'Year':[],'Quater':[],'District_Name':[], 'Registred_Users_count':[]}\n",
    "\n",
    "for i in Top_state_list:\n",
    "    p_i=path+'/'+i\n",
    "    Top_yr=os.listdir(p_i)\n",
    "    for j in Top_yr:\n",
    "        p_j=p_i+'/'+ j\n",
    "        Top_yr_list=os.listdir(p_j)\n",
    "        for k in Top_yr_list:\n",
    "            p_k=p_j+'/'+k\n",
    "            Data=open(p_k,'r')\n",
    "            D=json.load(Data)\n",
    "            for z in D['data']['districts']:\n",
    "                Dist_Name=z['name']\n",
    "                RegUser_count=z['registeredUsers']\n",
    "                clm['State'].append(i)\n",
    "                clm['Year'].append(j)\n",
    "                clm['Quater'].append(int(k.strip('.json')))\n",
    "                clm['District_Name'].append(Dist_Name)\n",
    "                clm['Registred_Users_count'].append(RegUser_count)\n",
    "Top_User_Dist=pd.DataFrame(clm)\n",
    "Top_User_Dist"
   ]
  },
  {
   "cell_type": "raw",
   "id": "ed1b6212-07a4-41c5-bffa-93fada3c5cf1",
   "metadata": {},
   "source": [
    "my_dist_list = Top_User_Dist['District_Name'].unique()\n",
    "my_dist_list"
   ]
  },
  {
   "cell_type": "raw",
   "id": "1a3f62d2-1522-444b-a7f7-6bf028f5f8a9",
   "metadata": {},
   "source": [
    "\n",
    "dist_in_Title ={}\n",
    "for i in my_dist_list:\n",
    "    if i not in dist_in_Title:\n",
    "        dist_in_Title[i] = i.title()"
   ]
  },
  {
   "cell_type": "raw",
   "id": "49bcc5ce-bc52-414f-9535-c12c4fb3a41a",
   "metadata": {},
   "source": [
    "Top_User_Dist['District_Name'] = Top_User_Dist['District_Name'].map(dist_in_Title)"
   ]
  },
  {
   "cell_type": "raw",
   "id": "e783837f-9006-4b20-ab36-eb87600db966",
   "metadata": {},
   "source": [
    "\n",
    "my_dict = {'andaman-&-nicobar-islands':'Andaman & Nicobar Islands', 'andhra-pradesh':'Andhra Pradesh', 'arunachal-pradesh':'Arunachal Pradesh', \n",
    "           'assam':'Assam', 'bihar':'Bihar', 'chandigarh':'Chandigarh', 'chhattisgarh':'Chhattisgarh', 'dadra-&-nagar-haveli-&-daman-&-diu':'Dadra & Nagar Haveli & Daman & Diu',\n",
    "           'delhi':'Delhi', 'goa':'Goa', 'gujarat':'Gujarat', 'haryana':'Haryana', 'himachal-pradesh':'Himachal Pradesh', 'jammu-&-kashmir':'Jammu & Kashmir',\n",
    "           'jharkhand':'Jharkhand', 'karnataka':'Karnataka', 'kerala':'Kerala', 'ladakh':'Ladakh', 'lakshadweep':'Lakshadweep', 'madhya-pradesh':'Madhya Pradesh',\n",
    "           'maharashtra':'Maharashtra', 'manipur':'Manipur', 'meghalaya':'Meghalaya', 'mizoram':'Mizoram', 'nagaland':'Nagaland', 'odisha':'Odisha',\n",
    "           'puducherry':'Puducherry', 'punjab':'Punjab', 'rajasthan':'Rajasthan', 'sikkim':'Sikkim', 'tamil-nadu':'Tamil Nadu', 'telangana':'Telengana',\n",
    "           'tripura':'Tripura', 'uttar-pradesh':'Uttar Pradesh', 'uttarakhand':'Uttarakhand', 'west-bengal':'West Bengal'}\n",
    "Top_User_Dist['State'] = Top_User_Dist['State'].map(my_dict)"
   ]
  },
  {
   "cell_type": "raw",
   "id": "946746d5-e2d6-4f10-b9c5-ddf511e585af",
   "metadata": {},
   "source": [
    "Top_User_Dist.isnull().sum()"
   ]
  },
  {
   "cell_type": "raw",
   "id": "41631bca-5c59-4e7c-a27d-9ba202b1459f",
   "metadata": {},
   "source": [
    "import mysql.connector\n",
    "mydb=mysql.connector.connect(\n",
    "    host=\"localhost\",\n",
    "    user=\"root\",\n",
    "    password='xxxxxx',\n",
    ")\n",
    "pointer=mydb.cursor()\n",
    "pointer.execute('use capstone2;')\n",
    "# query=\"\"\"create table Top_User_Dist(\n",
    "# State Varchar(255),\n",
    "# Year Int(10),\n",
    "# Quarter Int(2),\n",
    "# District_Name Varchar(50),\n",
    "# Registred_Users_count int(20)\n",
    "# );\"\"\"\n",
    "# pointer.execute(query)\n",
    "insert_query = 'INSERT INTO Top_User_Dist (State,Year,Quarter,District_Name,Registred_Users_count) VALUES (%s,%s,%s,%s,%s)'\n",
    "values = [(row[\"State\"], row[\"Year\"], row[\"Quater\"],row[\"District_Name\"],row[\"Registred_Users_count\"]) for _, row in Top_User_Dist.iterrows()]\n",
    "pointer.executemany(insert_query, values)"
   ]
  },
  {
   "cell_type": "raw",
   "id": "bb4557bf-7e24-4990-89da-74ad26f168d3",
   "metadata": {},
   "source": [
    "mydb.commit()"
   ]
  },
  {
   "cell_type": "raw",
   "id": "bff63a3e-acf8-4092-b692-78df70c32318",
   "metadata": {},
   "source": [
    "with pd.ExcelWriter('PhonePe_DB.xlsx', engine='openpyxl', mode='a') as writer:\n",
    "    # Write df to new sheet with index, a means append\n",
    "    Top_User_Dist.to_excel(writer, sheet_name='TopUserDist', index=True)"
   ]
  },
  {
   "cell_type": "raw",
   "id": "4fb2d0bf-d84e-4b3b-80fb-be95ea439d75",
   "metadata": {},
   "source": [
    "# Top Users Pincodewise\n",
    "clm={'State':[], 'Year':[],'Quater':[],'Pincodes':[], 'Registred_Users_count':[]}\n",
    "\n",
    "for i in Top_state_list:\n",
    "    p_i=path+'/'+i\n",
    "    Top_yr=os.listdir(p_i)\n",
    "    for j in Top_yr:\n",
    "        p_j=p_i+'/'+ j\n",
    "        Top_yr_list=os.listdir(p_j)\n",
    "        for k in Top_yr_list:\n",
    "            p_k=p_j+'/'+k\n",
    "            Data=open(p_k,'r')\n",
    "            D=json.load(Data)\n",
    "            for z in D['data']['pincodes']:\n",
    "                Pin = z['name']\n",
    "                RegUser_count = z['registeredUsers']\n",
    "                clm['State'].append(i)\n",
    "                clm['Year'].append(j)\n",
    "                clm['Quater'].append(int(k.strip('.json')))\n",
    "                clm['Pincodes'].append(Pin)\n",
    "                clm['Registred_Users_count'].append(RegUser_count)\n",
    "Top_User_Pcodes = pd.DataFrame(clm)\n",
    "Top_User_Pcodes"
   ]
  },
  {
   "cell_type": "raw",
   "id": "be4c7f75-f8eb-4175-b135-16a22f1186e1",
   "metadata": {},
   "source": [
    "my_dict = {'andaman-&-nicobar-islands':'Andaman & Nicobar Islands', 'andhra-pradesh':'Andhra Pradesh', 'arunachal-pradesh':'Arunachal Pradesh', \n",
    "           'assam':'Assam', 'bihar':'Bihar', 'chandigarh':'Chandigarh', 'chhattisgarh':'Chhattisgarh', 'dadra-&-nagar-haveli-&-daman-&-diu':'Dadra & Nagar Haveli & Daman & Diu',\n",
    "           'delhi':'Delhi', 'goa':'Goa', 'gujarat':'Gujarat', 'haryana':'Haryana', 'himachal-pradesh':'Himachal Pradesh', 'jammu-&-kashmir':'Jammu & Kashmir',\n",
    "           'jharkhand':'Jharkhand', 'karnataka':'Karnataka', 'kerala':'Kerala', 'ladakh':'Ladakh', 'lakshadweep':'Lakshadweep', 'madhya-pradesh':'Madhya Pradesh',\n",
    "           'maharashtra':'Maharashtra', 'manipur':'Manipur', 'meghalaya':'Meghalaya', 'mizoram':'Mizoram', 'nagaland':'Nagaland', 'odisha':'Odisha',\n",
    "           'puducherry':'Puducherry', 'punjab':'Punjab', 'rajasthan':'Rajasthan', 'sikkim':'Sikkim', 'tamil-nadu':'Tamil Nadu', 'telangana':'Telengana',\n",
    "           'tripura':'Tripura', 'uttar-pradesh':'Uttar Pradesh', 'uttarakhand':'Uttarakhand', 'west-bengal':'West Bengal'}\n",
    "Top_User_Pcodes['State'] = Top_User_Pcodes['State'].map(my_dict)"
   ]
  },
  {
   "cell_type": "raw",
   "id": "b4516677-6c37-4f57-a8cf-59e0d5fe6966",
   "metadata": {},
   "source": [
    "import mysql.connector\n",
    "mydb=mysql.connector.connect(\n",
    "    host=\"localhost\",\n",
    "    user=\"root\",\n",
    "    password='ne09ft#rt12gs',\n",
    ")\n",
    "pointer=mydb.cursor()\n",
    "pointer.execute('use capstone2;')\n",
    "query=\"\"\"create table Top_User_Pcodes(\n",
    "State Varchar(255),\n",
    "Year Int(10),\n",
    "Quarter Int(2),\n",
    "Pincodes Int(20),\n",
    "Registred_Users_count int(20)\n",
    ");\"\"\"\n",
    "pointer.execute(query)\n",
    "insert_query = 'INSERT INTO Top_User_Pcodes (State,Year,Quarter,Pincodes,Registred_Users_count) VALUES (%s,%s,%s,%s,%s)'\n",
    "values = [(row[\"State\"], row[\"Year\"], row[\"Quater\"],row[\"Pincodes\"],row[\"Registred_Users_count\"]) for _, row in Top_User_Pcodes.iterrows()]\n",
    "pointer.executemany(insert_query, values)"
   ]
  },
  {
   "cell_type": "raw",
   "id": "7f455d80-b154-4130-9bd3-025aa57df514",
   "metadata": {},
   "source": [
    "mydb.commit()"
   ]
  },
  {
   "cell_type": "raw",
   "id": "d4f3fa7c-ce5f-432e-9564-1ace1cff5583",
   "metadata": {},
   "source": [
    "pointer.close()\n",
    "mydb.close()"
   ]
  },
  {
   "cell_type": "raw",
   "id": "67d94255-a901-4ef4-9da6-bddf3c865bce",
   "metadata": {},
   "source": [
    "with pd.ExcelWriter('PhonePe_DB.xlsx', engine='openpyxl', mode='a') as writer:\n",
    "    # Write df to new sheet\n",
    "    Top_User_Pcodes.to_excel(writer, sheet_name='TopUserPC', index=True)"
   ]
  }
 ],
 "metadata": {
  "kernelspec": {
   "display_name": "Python 3 (ipykernel)",
   "language": "python",
   "name": "python3"
  },
  "language_info": {
   "codemirror_mode": {
    "name": "ipython",
    "version": 3
   },
   "file_extension": ".py",
   "mimetype": "text/x-python",
   "name": "python",
   "nbconvert_exporter": "python",
   "pygments_lexer": "ipython3",
   "version": "3.11.7"
  }
 },
 "nbformat": 4,
 "nbformat_minor": 5
}
